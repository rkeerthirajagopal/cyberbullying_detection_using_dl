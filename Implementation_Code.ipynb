{
  "cells": [
    {
      "attachments": {},
      "cell_type": "markdown",
      "metadata": {
        "id": "CmcGIZYGGFQ4"
      },
      "source": [
        "# Mounting Drive"
      ]
    },
    {
      "cell_type": "code",
      "execution_count": null,
      "metadata": {
        "id": "eibeSZN3iy59"
      },
      "outputs": [],
      "source": [
        "from google.colab import drive\n",
        "drive.mount('/content/drive')"
      ]
    },
    {
      "attachments": {},
      "cell_type": "markdown",
      "metadata": {
        "id": "-ZVx-HMPF5Wx"
      },
      "source": [
        "# Importing Packages"
      ]
    },
    {
      "cell_type": "code",
      "execution_count": null,
      "metadata": {
        "id": "d7acrRmbi1C4"
      },
      "outputs": [],
      "source": [
        "import numpy as np\n",
        "import pandas as pd\n",
        "import matplotlib.pyplot as plt\n",
        "import seaborn as sns\n",
        "from sklearn.model_selection import train_test_split, GridSearchCV\n",
        "from sklearn.feature_extraction.text import CountVectorizer\n",
        "from sklearn.metrics import f1_score, accuracy_score, precision_score, recall_score, make_scorer\n",
        "from time import time"
      ]
    },
    {
      "attachments": {},
      "cell_type": "markdown",
      "metadata": {
        "id": "E9IuzT7ME6fu"
      },
      "source": [
        "#Loading Dataset"
      ]
    },
    {
      "cell_type": "code",
      "execution_count": null,
      "metadata": {
        "id": "WjeSFwvojKyG"
      },
      "outputs": [],
      "source": [
        "df = pd.read_csv('/content/drive/MyDrive/dataset/public_data_labeled.csv')"
      ]
    },
    {
      "attachments": {},
      "cell_type": "markdown",
      "metadata": {
        "id": "5CHLCAN1E9gS"
      },
      "source": [
        "#Pre-processing Dataset"
      ]
    },
    {
      "cell_type": "code",
      "execution_count": null,
      "metadata": {
        "id": "_r__xNwajOKa"
      },
      "outputs": [],
      "source": [
        "# Import label encoder\n",
        "from sklearn import preprocessing\n",
        "\n",
        "# label_encoder object knows how to understand word labels.\n",
        "label_encoder = preprocessing.LabelEncoder()\n",
        "\n",
        "# Encode labels in column 'species'.\n",
        "df['label']= label_encoder.fit_transform(df['label'])\n",
        "\n",
        "df['label'].unique()"
      ]
    },
    {
      "cell_type": "code",
      "execution_count": null,
      "metadata": {
        "id": "2X9TT5KNjhOu"
      },
      "outputs": [],
      "source": [
        "import string\n",
        "from nltk import pos_tag#pos_tag is a tool that tags the part of speech to the word(POS = Part of Speech)\n",
        "#example: tagging the word 'drinking' as verb\n",
        "\n",
        "#function for removing punctuations\n",
        "def tokenize_remove_punctuation(text):\n",
        "  clean_text = []         #creaating an empty list to store the cleaned text\n",
        "  text = text.split(\" \")  #spliting all words in a sentence separated\n",
        "                          #by \" \" and storing them in a list named 'text'\n",
        "  for word in text:\n",
        "    word = list(word)  #spliting all words into alphabets\n",
        "    new_word = []      #creaating an empty list to store the new word after\n",
        "                       #removing puntuations\n",
        "\n",
        "    # spliting the words into alphabets is used because it\n",
        "    #will convert words like 'reading?' into 'reading'\n",
        "    for c in word:\n",
        "      if c not in string.punctuation:     #string.puntuation is a list og all\n",
        "                                          # puntuation marks , example :@!$%&?, etc.\n",
        "        new_word.append(c)\n",
        "      word = \"\".join(new_word)  #joing the alphabets to create the word after removing all puntuations\n",
        "    clean_text.append(word)     #storing the word in the list named 'clean_text' to create the\n",
        "                                # list of words in the sentence\n",
        "  return clean_text"
      ]
    },
    {
      "cell_type": "code",
      "execution_count": null,
      "metadata": {
        "id": "cVDWXTcCjkJL"
      },
      "outputs": [],
      "source": [
        "import nltk\n",
        "#downloads the list of stopwords\n",
        "nltk.download('stopwords')"
      ]
    },
    {
      "cell_type": "code",
      "execution_count": null,
      "metadata": {
        "id": "atDfD88Ujl7X"
      },
      "outputs": [],
      "source": [
        "#storing all the stopwords in the list named 'stopwords'\n",
        "stopwords = nltk.corpus.stopwords.words('english')  #storing only english stopwords , there are stopwords for other language also such as chinese and french\n",
        "\n",
        "# Function to remove all the stopwords from the sentence\n",
        "def remove_stopwords(text):\n",
        "  clean_text = []\n",
        "  for word in text:\n",
        "    if word not in stopwords:\n",
        "      clean_text.append(word)\n",
        "  return clean_text"
      ]
    },
    {
      "cell_type": "code",
      "execution_count": null,
      "metadata": {
        "id": "SVIskM6fjpBS"
      },
      "outputs": [],
      "source": [
        "#tagging all the words according o their part of speech\n",
        "def pos_tagging(text):\n",
        "    try:\n",
        "        tagged = nltk.pos_tag(text)\n",
        "        return tagged\n",
        "    except Excepton as e:\n",
        "        print(e)"
      ]
    },
    {
      "cell_type": "code",
      "execution_count": null,
      "metadata": {
        "id": "18SJHccqjqzx"
      },
      "outputs": [],
      "source": [
        "from nltk.corpus import wordnet\n",
        "\n",
        "#wordnet is a tool that reads that reads the tagging and returns the part of speech\n",
        "def get_wordnet(pos_tag):\n",
        "  if pos_tag.startswith('J'):\n",
        "    return wordnet.ADJ\n",
        "  elif pos_tag.startswith('V'):\n",
        "    return wordnet.VERB\n",
        "  elif pos_tag.startswith('N'):\n",
        "    return wordnet.NOUN\n",
        "  elif pos_tag.startswith('R'):\n",
        "    return wordnet.ADV\n",
        "  else:\n",
        "    return wordnet.NOUN"
      ]
    },
    {
      "cell_type": "code",
      "execution_count": null,
      "metadata": {
        "id": "9YAd7l71jslX"
      },
      "outputs": [],
      "source": [
        "from nltk.stem import WordNetLemmatizer\n",
        "#WordLemmatizer is a tool that converts word into root word\n",
        "#Example: historical(word) is converted into history(root-word)\n",
        "\n",
        "#Now we will create a function that uses all the functions that we have created above\n",
        "\n",
        "def clean_text(text):\n",
        "  text = str(text)\n",
        "  #Converting text to lower-case\n",
        "  text = text.lower()\n",
        "  #tokenize and remove punctuations from the text\n",
        "  text = tokenize_remove_punctuation(text)\n",
        "  #remove words containing numericals\n",
        "  text = [word for word in text if not any(c.isdigit() for c in word)]\n",
        "  #remove stopwords\n",
        "  text = remove_stopwords(text)\n",
        "  #remove empty tokens\n",
        "  text = [ t for t in text if len(t) > 0]\n",
        "  #pos tagging\n",
        "  pos_tags = pos_tagging(text)\n",
        "  #Lemmatize text\n",
        "  text = [WordNetLemmatizer().lemmatize(t[0],get_wordnet(t[1])) for t in pos_tags]\n",
        "  #remove words with only one letter\n",
        "  text = [ t for t in text if len(t)>1]\n",
        "  #join all words\n",
        "  text = \" \".join(text)\n",
        "  return text\n"
      ]
    },
    {
      "cell_type": "code",
      "execution_count": null,
      "metadata": {
        "colab": {
          "base_uri": "https://localhost:8080/"
        },
        "id": "CcwXaXOGju97",
        "outputId": "65d7a6e9-4795-47ea-c6d4-d7479d2f053e"
      },
      "outputs": [
        {
          "name": "stderr",
          "output_type": "stream",
          "text": [
            "[nltk_data] Downloading package averaged_perceptron_tagger to\n",
            "[nltk_data]     /root/nltk_data...\n",
            "[nltk_data]   Unzipping taggers/averaged_perceptron_tagger.zip.\n",
            "[nltk_data] Downloading package wordnet to /root/nltk_data...\n"
          ]
        },
        {
          "data": {
            "text/plain": [
              "True"
            ]
          },
          "execution_count": 17,
          "metadata": {},
          "output_type": "execute_result"
        }
      ],
      "source": [
        "#don't know what is 'averaged_perceptron_tagger'\n",
        "#don't know why devansh downloaded it\n",
        "nltk.download('averaged_perceptron_tagger')\n",
        "#Downloading the wordnet tool\n",
        "nltk.download('wordnet')"
      ]
    },
    {
      "cell_type": "code",
      "execution_count": null,
      "metadata": {
        "id": "unCodnLijwiV"
      },
      "outputs": [],
      "source": [
        "#reseting the index of rows\n",
        "# Index gets unordered if we drop some rows in our dataset(Example while using dropna() function)\n",
        "df.reset_index(inplace = True, drop = True)"
      ]
    },
    {
      "cell_type": "code",
      "execution_count": null,
      "metadata": {
        "colab": {
          "base_uri": "https://localhost:8080/"
        },
        "id": "aUqyeyGLj0KH",
        "outputId": "2925e2f1-47f2-4c88-a68a-d36b20dfa9e9"
      },
      "outputs": [
        {
          "name": "stderr",
          "output_type": "stream",
          "text": [
            "[nltk_data] Downloading package omw-1.4 to /root/nltk_data...\n"
          ]
        }
      ],
      "source": [
        "#this line of code will now be used to pply the functions on each sentences in the 'comments' column\n",
        "#This will take time as it will use the 'clean_text' function on all the sentences in our dataset\n",
        "#the .map() function applies the function at each sentences in the 'comments' column\n",
        "import nltk\n",
        "nltk.download('omw-1.4')\n",
        "df['Processed_Comment'] = df['full_text'].map(clean_text)"
      ]
    },
    {
      "cell_type": "code",
      "execution_count": null,
      "metadata": {
        "colab": {
          "base_uri": "https://localhost:8080/"
        },
        "id": "sdO9Wmsyj3Hd",
        "outputId": "a94de4a0-acca-46f0-8c03-2433b98df5e3"
      },
      "outputs": [
        {
          "name": "stdout",
          "output_type": "stream",
          "text": [
            "Number of rows in the total set: 24783\n",
            "Number of rows in the training set: 18587\n",
            "Number of rows in the test set: 6196\n"
          ]
        }
      ],
      "source": [
        "X_train, X_test, y_train, y_test = train_test_split(df['Processed_Comment'],\n",
        "                                                    df['label'],\n",
        "                                                    random_state=42)\n",
        "\n",
        "print('Number of rows in the total set: {}'.format(df.shape[0]))\n",
        "print('Number of rows in the training set: {}'.format(X_train.shape[0]))\n",
        "print('Number of rows in the test set: {}'.format(X_test.shape[0]))"
      ]
    },
    {
      "cell_type": "code",
      "execution_count": null,
      "metadata": {
        "id": "cEIO8Q_EunnV"
      },
      "outputs": [],
      "source": [
        " #Instantiate the CountVectorizer method\n",
        "count_vector = CountVectorizer(stop_words = 'english', lowercase = True)\n",
        "\n",
        "# Fit the training data and then return the matrix\n",
        "training_data = count_vector.fit_transform(X_train)\n",
        "\n",
        "# Transform testing data and return the matrix. Note we are not fitting the testing data into the CountVectorizer()\n",
        "testing_data = count_vector.transform(X_test)"
      ]
    },
    {
      "attachments": {},
      "cell_type": "markdown",
      "metadata": {
        "id": "28bcT-oLJdp-"
      },
      "source": [
        "#Random Forest Model"
      ]
    },
    {
      "cell_type": "code",
      "execution_count": null,
      "metadata": {
        "colab": {
          "base_uri": "https://localhost:8080/"
        },
        "id": "Vp6la4JjltEe",
        "outputId": "b642f918-d7cb-49cc-d11a-6ccb728ef9fa"
      },
      "outputs": [
        {
          "name": "stdout",
          "output_type": "stream",
          "text": [
            "Accuracy: 0.9205164413960056\n",
            "Classification Report:\n",
            "               precision    recall  f1-score   support\n",
            "\n",
            "           0       0.76      0.77      0.77       835\n",
            "           1       0.95      0.95      0.95      4122\n",
            "\n",
            "    accuracy                           0.92      4957\n",
            "   macro avg       0.86      0.86      0.86      4957\n",
            "weighted avg       0.92      0.92      0.92      4957\n",
            "\n"
          ]
        }
      ],
      "source": [
        "import numpy as np\n",
        "import pandas as pd\n",
        "from sklearn.feature_extraction.text import CountVectorizer\n",
        "from sklearn.decomposition import PCA\n",
        "from sklearn.ensemble import RandomForestClassifier\n",
        "from sklearn.metrics import accuracy_score, classification_report\n",
        "from sklearn.model_selection import train_test_split\n",
        "\n",
        "\n",
        "# Preprocess the data\n",
        "X = df['Processed_Comment']\n",
        "y = df['label']\n",
        "vectorizer = CountVectorizer()\n",
        "X = vectorizer.fit_transform(X)\n",
        "\n",
        "# Split the data into train and test sets\n",
        "X_train, X_test, y_train, y_test = train_test_split(X, y, test_size=0.2, random_state=42)\n",
        "\n",
        "# Perform PCA for feature selection\n",
        "pca = PCA(n_components=100)\n",
        "X_train_pca = pca.fit_transform(X_train.toarray())\n",
        "X_test_pca = pca.transform(X_test.toarray())\n",
        "\n",
        "# Train the Random Forest model\n",
        "randomforest = RandomForestClassifier(n_estimators=1000,min_samples_split=2)\n",
        "randomforest.fit(X_train_pca, y_train)\n",
        "\n",
        "# Evaluate the model on the test set\n",
        "y_pred = randomforest.predict(X_test_pca)\n",
        "print(\"Accuracy:\", accuracy_score(y_test, y_pred))\n",
        "print(\"Classification Report:\\n\", classification_report(y_test, y_pred))"
      ]
    },
    {
      "cell_type": "code",
      "execution_count": null,
      "metadata": {
        "id": "3FSNSeEIQ9hX"
      },
      "outputs": [],
      "source": [
        "import pickle\n",
        "# Store the trained classifier to a file\n",
        "with open('/content/drive/MyDrive/dataset/model/randomforest_final.pickle', 'wb') as f:\n",
        "    pickle.dump(randomforest, f)"
      ]
    },
    {
      "cell_type": "code",
      "execution_count": null,
      "metadata": {
        "id": "gqbiw5w3Q9zR"
      },
      "outputs": [],
      "source": [
        "# Load the stored classifier from a file\n",
        "import pickle\n",
        "with open('/content/drive/MyDrive/dataset/model/randomforest_final.pickle', 'rb') as f:\n",
        "    randomforest = pickle.load(f)"
      ]
    },
    {
      "attachments": {},
      "cell_type": "markdown",
      "metadata": {
        "id": "zOlG5kkN_b7o"
      },
      "source": [
        "#Perceptron Model"
      ]
    },
    {
      "cell_type": "code",
      "execution_count": null,
      "metadata": {
        "colab": {
          "base_uri": "https://localhost:8080/"
        },
        "id": "DXmB_KEsFrlB",
        "outputId": "173670f1-8c13-470d-98c4-c3f386f3d25c"
      },
      "outputs": [
        {
          "name": "stdout",
          "output_type": "stream",
          "text": [
            "Accuracy: 0.9017550938067379\n",
            "Classification Report:\n",
            "               precision    recall  f1-score   support\n",
            "\n",
            "           0       0.68      0.78      0.73       835\n",
            "           1       0.95      0.93      0.94      4122\n",
            "\n",
            "    accuracy                           0.90      4957\n",
            "   macro avg       0.82      0.85      0.83      4957\n",
            "weighted avg       0.91      0.90      0.90      4957\n",
            "\n"
          ]
        }
      ],
      "source": [
        "import numpy as np\n",
        "import pandas as pd\n",
        "from sklearn.feature_extraction.text import CountVectorizer\n",
        "from sklearn.linear_model import Perceptron\n",
        "from sklearn.metrics import accuracy_score, classification_report\n",
        "from sklearn.model_selection import train_test_split\n",
        "from sklearn.feature_selection import SelectKBest, chi2\n",
        "\n",
        "# Preprocess the data\n",
        "X = df['Processed_Comment']\n",
        "y = df['label']\n",
        "vectorizer = CountVectorizer()\n",
        "X = vectorizer.fit_transform(X)\n",
        "\n",
        "# Perform feature selection using SelectKBest\n",
        "selector = SelectKBest(chi2, k=500)\n",
        "X = selector.fit_transform(X, y)\n",
        "\n",
        "# Split the data into train and test sets\n",
        "X_train, X_test, y_train, y_test = train_test_split(X, y, test_size=0.2, random_state=42)\n",
        "\n",
        "# Train the Perceptron model\n",
        "per = Perceptron(max_iter=100,penalty='l2',alpha=0.0001)\n",
        "per.fit(X_train, y_train)\n",
        "\n",
        "# Evaluate the model on the test set\n",
        "y_pred = per.predict(X_test)\n",
        "print(\"Accuracy:\", accuracy_score(y_test, y_pred))\n",
        "print(\"Classification Report:\\n\", classification_report(y_test, y_pred))"
      ]
    },
    {
      "cell_type": "code",
      "execution_count": null,
      "metadata": {
        "id": "tZPgKcrCHwqC"
      },
      "outputs": [],
      "source": [
        "import pickle\n",
        "# Store the trained classifier to a file\n",
        "with open('/content/drive/MyDrive/dataset/model/perceptron_final.pickle', 'wb') as f:\n",
        "    pickle.dump(per, f)"
      ]
    },
    {
      "cell_type": "code",
      "execution_count": null,
      "metadata": {
        "id": "0IsGgCmMIU0C"
      },
      "outputs": [],
      "source": [
        "import pickle\n",
        "# Load the stored classifier from a file\n",
        "with open('/content/drive/MyDrive/dataset/model/perceptron_final.pickle', 'rb') as f:\n",
        "    per = pickle.load(f)"
      ]
    },
    {
      "cell_type": "code",
      "execution_count": null,
      "metadata": {
        "colab": {
          "base_uri": "https://localhost:8080/"
        },
        "id": "3f2oeE1TxAnJ",
        "outputId": "a06c9915-375e-48c8-9d91-32a1142fa219"
      },
      "outputs": [
        {
          "name": "stdout",
          "output_type": "stream",
          "text": [
            "Accuracy: 0.9017550938067379\n",
            "Classification Report:\n",
            "               precision    recall  f1-score   support\n",
            "\n",
            "           0       0.68      0.78      0.73       835\n",
            "           1       0.95      0.93      0.94      4122\n",
            "\n",
            "    accuracy                           0.90      4957\n",
            "   macro avg       0.82      0.85      0.83      4957\n",
            "weighted avg       0.91      0.90      0.90      4957\n",
            "\n"
          ]
        }
      ],
      "source": [
        "y_pred = per.predict(X_test)\n",
        "print(\"Accuracy:\", accuracy_score(y_test, y_pred))\n",
        "print(\"Classification Report:\\n\", classification_report(y_test, y_pred))"
      ]
    },
    {
      "attachments": {},
      "cell_type": "markdown",
      "metadata": {
        "id": "VZiXI_eAHWYZ"
      },
      "source": [
        "# Ensemble Model (Random Forest With Perceptron)"
      ]
    },
    {
      "cell_type": "code",
      "execution_count": null,
      "metadata": {
        "colab": {
          "base_uri": "https://localhost:8080/"
        },
        "id": "QzTduSHmO8lW",
        "outputId": "f31aac9f-9e31-4e67-d5bf-dcc614a9616a"
      },
      "outputs": [
        {
          "name": "stdout",
          "output_type": "stream",
          "text": [
            "Accuracy: 0.9307617817947063\n",
            "              precision    recall  f1-score   support\n",
            "\n",
            "           0       0.78      0.81      0.80      1041\n",
            "           1       0.96      0.95      0.96      5155\n",
            "\n",
            "    accuracy                           0.93      6196\n",
            "   macro avg       0.87      0.88      0.88      6196\n",
            "weighted avg       0.93      0.93      0.93      6196\n",
            "\n"
          ]
        }
      ],
      "source": [
        "import pandas as pd\n",
        "from sklearn.feature_extraction.text import TfidfVectorizer\n",
        "from sklearn.ensemble import BaggingClassifier\n",
        "from sklearn.linear_model import Perceptron\n",
        "from sklearn.ensemble import RandomForestClassifier\n",
        "from sklearn.metrics import accuracy_score, classification_report\n",
        "\n",
        "# Load the pre-trained Perceptron and Random Forest models\n",
        "perceptron_model = joblib.load('/content/drive/MyDrive/dataset/model/perceptron_final.pickle')\n",
        "random_forest_model = joblib.load('/content/drive/MyDrive/dataset/model/randomforest_final.pickle')\n",
        "\n",
        "# Create a list of base estimators\n",
        "base_estimators = [perceptron_model, random_forest_model]\n",
        "\n",
        "# Create the ensemble classifier using BaggingClassifier with two base models\n",
        "ensemble_classifier = BaggingClassifier(\n",
        "    base_estimator=None,  # Setting base_estimator as None since we're passing a list of base estimators\n",
        "    n_estimators=2,  # Number of base estimators (two in this case)\n",
        "    random_state=42\n",
        ")\n",
        "\n",
        "# Set the base estimators for the ensemble classifier\n",
        "ensemble_classifier.estimators_ = base_estimators\n",
        "\n",
        "# Convert X_train and X_test from Series to DataFrame\n",
        "X_train = pd.DataFrame(X_train)\n",
        "X_test = pd.DataFrame(X_test)\n",
        "\n",
        "# Initialize the TF-IDF vectorizer\n",
        "vectorizer = TfidfVectorizer(ngram_range=(1, 2))  # Include unigrams and bigrams\n",
        "\n",
        "# Fit and transform the training data\n",
        "X_train_transformed = vectorizer.fit_transform(X_train.values.ravel())\n",
        "\n",
        "# Transform the test data\n",
        "X_test_transformed = vectorizer.transform(X_test.values.ravel())\n",
        "\n",
        "# Train the ensemble classifier on the transformed data\n",
        "ensemble_classifier.fit(X_train_transformed, y_train)\n",
        "\n",
        "# Use the ensemble classifier for prediction\n",
        "prediction = ensemble_classifier.predict(X_test_transformed)\n",
        "\n",
        "# Evaluate the ensemble classifier\n",
        "accuracy = ensemble_classifier.score(X_test_transformed, y_test)\n",
        "\n",
        "# Print the accuracy\n",
        "print('Accuracy:', accuracy)\n",
        "print(classification_report(y_test, prediction))"
      ]
    },
    {
      "attachments": {},
      "cell_type": "markdown",
      "metadata": {
        "id": "romgAK66KSq7"
      },
      "source": [
        "# LSTM Model\n"
      ]
    },
    {
      "cell_type": "code",
      "execution_count": null,
      "metadata": {
        "id": "NH2BPHKQW_xK"
      },
      "outputs": [],
      "source": [
        "import pandas as pd\n",
        "import numpy as np\n",
        "from tensorflow.keras.models import Sequential\n",
        "from tensorflow.keras.layers import Embedding, LSTM, Dense, Dropout\n",
        "from tensorflow.keras.preprocessing.text import Tokenizer\n",
        "from tensorflow.keras.preprocessing.sequence import pad_sequences\n",
        "from sklearn.model_selection import train_test_split\n",
        "# Convert the text data to sequences\n",
        "sequences = tokenizer.texts_to_sequences(df['full_text'])\n",
        "# Pad the sequences to a fixed length\n",
        "max_length = 100\n",
        "padded_sequences = pad_sequences(sequences, maxlen=max_length, truncating='post')\n",
        "# Split the data into training and testing sets\n",
        "X_train, X_test, y_train, y_test = train_test_split(padded_sequences, labels, test_size=0.2, random_state=42)\n",
        "# Build the model\n",
        "model = Sequential([\n",
        "    Embedding(5000, 64, input_length=max_length),\n",
        "    LSTM(64),\n",
        "    Dense(1, activation='sigmoid')\n",
        "])\n",
        "model.compile(optimizer='adam', loss='binary_crossentropy', metrics=['accuracy'])\n",
        "# Train the model\n",
        "model.fit(X_train, y_train, epochs=10, validation_data=(X_test, y_test))\n",
        "# Evaluate the model\n",
        "test_loss, test_acc = model.evaluate(X_test, y_test)\n",
        "print('Test loss:', test_loss)\n",
        "print('Test accuracy:', test_acc)"
      ]
    },
    {
      "attachments": {},
      "cell_type": "markdown",
      "metadata": {
        "id": "XcOa_U1ICiGs"
      },
      "source": [
        "# Glove Embeddings"
      ]
    },
    {
      "cell_type": "code",
      "execution_count": null,
      "metadata": {
        "id": "aNaK0SKCCRtl"
      },
      "outputs": [],
      "source": [
        "import gensim.downloader as api\n",
        "# Download the GloVe model\n",
        "glove = api.load(\"glove-twitter-100\")"
      ]
    },
    {
      "attachments": {},
      "cell_type": "markdown",
      "metadata": {
        "id": "P_z8Ocn0ETOu"
      },
      "source": [
        "# LSTM With Glove Model"
      ]
    },
    {
      "cell_type": "code",
      "execution_count": null,
      "metadata": {
        "id": "v38BUzAwBish"
      },
      "outputs": [],
      "source": [
        "import pandas as pd\n",
        "import numpy as np\n",
        "from tensorflow.keras.models import Sequential\n",
        "from tensorflow.keras.layers import Embedding, LSTM, Dense, Dropout\n",
        "from tensorflow.keras.preprocessing.text import Tokenizer\n",
        "from tensorflow.keras.preprocessing.sequence import pad_sequences\n",
        "from sklearn.model_selection import train_test_split\n",
        "import matplotlib.pyplot as plt\n",
        "# Download the GloVe model\n",
        "glove = api.load(\"glove-twitter-100\")\n",
        "# Load the data\n",
        "df = pd.read_csv('/content/drive/MyDrive/text-dataset/public_data_labeled.csv')\n",
        "# Tokenize the text data\n",
        "tokenizer = Tokenizer(num_words=5000, oov_token='<OOV>')\n",
        "tokenizer.fit_on_texts(df['full_text'])\n",
        "word_index = tokenizer.word_index\n",
        "# Convert the text data to sequences\n",
        "sequences = tokenizer.texts_to_sequences(df['full_text'])\n",
        "# Pad the sequences to a fixed length\n",
        "max_length = 100\n",
        "padded_sequences = pad_sequences(sequences, maxlen=max_length, truncating='post')\n",
        "# Encode the labels\n",
        "labels = df['label'].replace({'Offensive': 1, 'Non-offensive': 0}).values\n",
        "# Split the data into training and testing sets\n",
        "X_train, X_test, y_train, y_test = train_test_split(padded_sequences, labels, test_size=0.2, random_state=42)\n",
        "# Load the GloVe embeddings\n",
        "embeddings_index = {}\n",
        "for word, index in glove.key_to_index.items():\n",
        "    embeddings_index[word] = glove.get_vector(word)\n",
        "# Create an embedding matrix\n",
        "embedding_dim = 100\n",
        "embedding_matrix = np.zeros((len(word_index) + 1, embedding_dim))\n",
        "for word, i in word_index.items():\n",
        "    embedding_vector = embeddings_index.get(word)\n",
        "    if embedding_vector is not None:\n",
        "        embedding_matrix[i] = embedding_vector\n",
        "# Build the model\n",
        "model = Sequential([\n",
        "    Embedding(len(word_index) + 1, embedding_dim, weights=[embedding_matrix], input_length=max_length, trainable=False),\n",
        "    LSTM(64, return_sequences=True),\n",
        "    Dropout(0.2),\n",
        "    LSTM(32),\n",
        "    Dropout(0.2),\n",
        "    Dense(1, activation='sigmoid')\n",
        "])\n",
        "model.compile(optimizer='adam', loss='binary_crossentropy', metrics=['accuracy'])\n",
        "# Evaluate the model\n",
        "test_loss, test_acc = model.evaluate(X_test, y_test)\n",
        "print('Test loss:', test_loss)\n",
        "print('Test accuracy:', test_acc)"
      ]
    },
    {
      "attachments": {},
      "cell_type": "markdown",
      "metadata": {
        "id": "b1oIJgKTEkKY"
      },
      "source": [
        "#Result Prediction Using LSTM With Glove Embeddings"
      ]
    },
    {
      "cell_type": "code",
      "execution_count": null,
      "metadata": {
        "id": "ZFHFxHS8Ent8"
      },
      "outputs": [],
      "source": [
        "import pandas as pd\n",
        "import numpy as np\n",
        "from tensorflow.keras.models import load_model\n",
        "from tensorflow.keras.preprocessing.sequence import pad_sequences\n",
        "from tensorflow.keras.preprocessing.text import Tokenizer\n",
        "# Load the data and tokenizer\n",
        "df = pd.read_csv('/content/drive/MyDrive/txtdatasest/public_data_labeled.csv')\n",
        "tokenizer = Tokenizer(num_words=5000, oov_token='<OOV>')\n",
        "tokenizer.fit_on_texts(df['full_text'])\n",
        "# Define the maximum sequence length\n",
        "max_length = 100  # Update the sequence length to match the model\n",
        "# Load the trained model\n",
        "model = load_model('/content/drive/MyDrive/lstmglove_text_model.h5')\n",
        "attention_model = load_model('/content/drive/MyDrive/lstmglove_text_model.h5')\n",
        "# Function to predict cyberbullying and provide reasoning\n",
        "def predict_cyberbullying(text):\n",
        "    # Preprocess the input text\n",
        "    sequence = tokenizer.texts_to_sequences([text])\n",
        "    padded_sequence = pad_sequences(sequence, maxlen=max_length, truncating='post')\n",
        "    # Predict using the trained model\n",
        "    prediction = model.predict(np.array(padded_sequence))[0][0]\n",
        "    # Get attention weights for the input text\n",
        "    attention_weights = attention_model.predict(np.array(padded_sequence))[0]\n",
        "    # Determine if it's a cyberbullying tweet or not\n",
        "    if prediction >= 0.5:\n",
        "        label = \"Bullying\"\n",
        "    else:\n",
        "        label = \"Not Bullying\"\n",
        "    # Get the most relevant words based on attention weights\n",
        "    relevant_words = [tokenizer.index_word[index] for index, weight in enumerate(attention_weights) if weight > 0.5 and index in tokenizer.index_word]\n",
        "    return label, relevant_words\n",
        "# User input\n",
        "user_input = input(\"Enter a tweet: \")\n",
        "# Predict and provide reasoning\n",
        "prediction_label, reasoning_words = predict_cyberbullying(user_input)\n",
        "# Output the prediction and reasoning\n",
        "print(\"Prediction:\", prediction_label)\n",
        "print(\"Reasoning Words:\", reasoning_words)"
      ]
    }
  ],
  "metadata": {
    "colab": {
      "provenance": []
    },
    "kernelspec": {
      "display_name": "Python 3",
      "name": "python3"
    },
    "language_info": {
      "name": "python"
    }
  },
  "nbformat": 4,
  "nbformat_minor": 0
}
